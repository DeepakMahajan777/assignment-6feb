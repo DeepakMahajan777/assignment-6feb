{
 "cells": [
  {
   "cell_type": "code",
   "execution_count": 5,
   "id": "2ca6ddcc-9ab8-4ff7-9251-e99a70ec622a",
   "metadata": {},
   "outputs": [
    {
     "name": "stdout",
     "output_type": "stream",
     "text": [
      "list1 =  [1, 2, 3, 4, [44, 55, 66, True], False, (34, 56, 78, 89, 34), {1, 2, 3}, {1: 34, 'key2': [55, 67, 78, 89], 4: (45, 22, 61, 34)}, [56, 'data science'], 'Machine Learning']\n",
      " \n",
      "products of number = 336600\n"
     ]
    }
   ],
   "source": [
    "#Ans1\n",
    "list1 = [1,2,3,4, [44,55,66, True], False, (34,56,78,89,34), {1,2,3,3,2,1}, {1:34, \"key2\": [55, 67, 78, 89], 4: (45,\n",
    "22, 61, 34)}, [56, 'data science'], 'Machine Learning']\n",
    "\n",
    "def extract_no(i):\n",
    "    l = []\n",
    "    if type(i) == int:\n",
    "        l.append(i)\n",
    "        return l\n",
    "    if type(i) == list or type(i) == tuple or type(i) == set:\n",
    "        for j in i:\n",
    "            if type(j) == int:\n",
    "                l.append(j)\n",
    "            return l\n",
    "        \n",
    "def product(l):\n",
    "    l1 = []\n",
    "    for i in l:\n",
    "        if type(i) == dict:\n",
    "            for j in list(i.values()):\n",
    "                l1.extend(extract_no(j)) if type(extract_no(j)) == list else None\n",
    "            for j in list(i.keys()):\n",
    "                l1.extend(extract_no(j)) if type(extract_no(j)) == list else None\n",
    "            else: \n",
    "                l1.extend(extract_no(i)) if type(extract_no(i)) == list else None\n",
    "                \n",
    "    from functools import reduce\n",
    "    return reduce(lambda x,y : x*y , l1)\n",
    "print(\"list1 = \",list1)\n",
    "print(\" \")\n",
    "print(\"products of number =\",product(list1))"
   ]
  },
  {
   "cell_type": "code",
   "execution_count": 6,
   "id": "24653d10-4bf5-40be-a115-cdedfc9947e6",
   "metadata": {},
   "outputs": [
    {
     "name": "stdout",
     "output_type": "stream",
     "text": [
      "input_sentence =  I want to become a Data Scientist.\n",
      " \n",
      "enc_message =  I$wznt$to$yexome$z$Dztz$Sxientist.\n"
     ]
    }
   ],
   "source": [
    "#Ans2.\n",
    "input_sentence = \"I want to become a Data Scientist.\"\n",
    "\n",
    "def enc_message(message):\n",
    "    original = ['a','b','c',' ']\n",
    "    encrypt = ['z','y','x','$']\n",
    "    i = 0\n",
    "    while i <len(original) and i < len(encrypt):\n",
    "        message = message.replace(original[i],encrypt[i])\n",
    "        i = i+1\n",
    "    return message\n",
    "\n",
    "print(\"input_sentence = \", input_sentence)\n",
    "print(\" \")\n",
    "print(\"enc_message = \", enc_message(input_sentence))"
   ]
  },
  {
   "cell_type": "code",
   "execution_count": null,
   "id": "5da69bc1-2d46-4df7-b63d-b17e950cf2ba",
   "metadata": {},
   "outputs": [],
   "source": []
  }
 ],
 "metadata": {
  "kernelspec": {
   "display_name": "Python 3 (ipykernel)",
   "language": "python",
   "name": "python3"
  },
  "language_info": {
   "codemirror_mode": {
    "name": "ipython",
    "version": 3
   },
   "file_extension": ".py",
   "mimetype": "text/x-python",
   "name": "python",
   "nbconvert_exporter": "python",
   "pygments_lexer": "ipython3",
   "version": "3.10.8"
  }
 },
 "nbformat": 4,
 "nbformat_minor": 5
}
